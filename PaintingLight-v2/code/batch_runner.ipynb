{
 "cells": [
  {
   "cell_type": "code",
   "execution_count": 1,
   "id": "dcd648a1-2175-493b-8b45-4ecd38ac6b33",
   "metadata": {},
   "outputs": [
    {
     "ename": "AssertionError",
     "evalue": "",
     "output_type": "error",
     "traceback": [
      "\u001b[1;31m---------------------------------------------------------------------------\u001b[0m",
      "\u001b[1;31mAssertionError\u001b[0m                            Traceback (most recent call last)",
      "Input \u001b[1;32mIn [1]\u001b[0m, in \u001b[0;36m<cell line: 17>\u001b[1;34m()\u001b[0m\n\u001b[0;32m     13\u001b[0m light_color_green \u001b[38;5;241m=\u001b[39m \u001b[38;5;241m1.0\u001b[39m\n\u001b[0;32m     14\u001b[0m light_color_blue \u001b[38;5;241m=\u001b[39m \u001b[38;5;241m1.0\u001b[39m\n\u001b[1;32m---> 17\u001b[0m \u001b[38;5;28;01mfrom\u001b[39;00m \u001b[38;5;21;01mPaintingLight_save\u001b[39;00m \u001b[38;5;28;01mimport\u001b[39;00m run\n\u001b[0;32m     18\u001b[0m \u001b[38;5;66;03m#輸入路徑\u001b[39;00m\n\u001b[0;32m     19\u001b[0m input_path\u001b[38;5;241m=\u001b[39m\u001b[38;5;124m\"\u001b[39m\u001b[38;5;124m../../test_output/Jubby/process_2\u001b[39m\u001b[38;5;124m\"\u001b[39m\n",
      "File \u001b[1;32mE:\\WORK2\\ColorShaddingFrame\\PaintingLight-v2\\code\\PaintingLight_save.py:16\u001b[0m, in \u001b[0;36m<module>\u001b[1;34m\u001b[0m\n\u001b[0;32m     12\u001b[0m \u001b[38;5;28;01mfrom\u001b[39;00m \u001b[38;5;21;01mcv2\u001b[39;00m\u001b[38;5;21;01m.\u001b[39;00m\u001b[38;5;21;01mximgproc\u001b[39;00m \u001b[38;5;28;01mimport\u001b[39;00m createGuidedFilter\n\u001b[0;32m     13\u001b[0m \u001b[38;5;28;01mimport\u001b[39;00m \u001b[38;5;21;01margparse\u001b[39;00m\n\u001b[1;32m---> 16\u001b[0m \u001b[38;5;28;01massert\u001b[39;00m tf\u001b[38;5;241m.\u001b[39m__version__ \u001b[38;5;241m==\u001b[39m \u001b[38;5;124m'\u001b[39m\u001b[38;5;124m1.4.0\u001b[39m\u001b[38;5;124m'\u001b[39m\n\u001b[0;32m     17\u001b[0m \u001b[38;5;28;01massert\u001b[39;00m scipy\u001b[38;5;241m.\u001b[39m__version__ \u001b[38;5;241m==\u001b[39m \u001b[38;5;124m'\u001b[39m\u001b[38;5;124m1.1.0\u001b[39m\u001b[38;5;124m'\u001b[39m\n\u001b[0;32m     18\u001b[0m \u001b[38;5;28;01massert\u001b[39;00m trimesh\u001b[38;5;241m.\u001b[39m__version__ \u001b[38;5;241m==\u001b[39m \u001b[38;5;124m'\u001b[39m\u001b[38;5;124m2.37.1\u001b[39m\u001b[38;5;124m'\u001b[39m\n",
      "\u001b[1;31mAssertionError\u001b[0m: "
     ]
    }
   ],
   "source": [
    "import cv2\n",
    "from pathlib import Path\n",
    "import glob\n",
    "\n",
    "mask = None\n",
    "ambient_intensity = 1.0\n",
    "light_intensity = 0.7\n",
    "light_source_height = 1.0\n",
    "gamma_correction = 1.0\n",
    "stroke_density_clipping = 0.5\n",
    "enabling_multiple_channel_effects = True\n",
    "\n",
    "light_color_red = 1.0\n",
    "light_color_green = 1.0\n",
    "light_color_blue = 1.0\n",
    "\n",
    "\n",
    "from PaintingLight_save import run\n",
    "#輸入路徑\n",
    "input_path=\"../../test_output/Jubby/process_2\"\n",
    "#輸出路徑\n",
    "outpath=\"../../test_output_2/final\"\n",
    "img_list=glob.glob(input_path+'/*')\n",
    "Path(outpath).mkdir(parents=True, exist_ok=True)\n",
    "for i in img_list:\n",
    "    image = cv2.imread(i)\n",
    "    output_name=i.split(\"\\\\\")[-1]\n",
    "    #print(outpath+\"/\"+output_name)\n",
    "    run(image, mask, ambient_intensity, light_intensity, light_source_height,\n",
    "        gamma_correction, stroke_density_clipping, light_color_red, light_color_green,\n",
    "        light_color_blue, enabling_multiple_channel_effects,outpath+\"/\"+output_name)"
   ]
  }
 ],
 "metadata": {
  "kernelspec": {
   "display_name": "Python 3 (ipykernel)",
   "language": "python",
   "name": "python3"
  },
  "language_info": {
   "codemirror_mode": {
    "name": "ipython",
    "version": 3
   },
   "file_extension": ".py",
   "mimetype": "text/x-python",
   "name": "python",
   "nbconvert_exporter": "python",
   "pygments_lexer": "ipython3",
   "version": "3.8.12"
  }
 },
 "nbformat": 4,
 "nbformat_minor": 5
}
