{
 "cells": [
  {
   "cell_type": "markdown",
   "id": "2f262077",
   "metadata": {
    "tags": []
   },
   "source": [
    "# 目錄\n",
    "* [A](#first-bullet)\n",
    "* [所有處理函數](#second-bullet)"
   ]
  },
  {
   "cell_type": "code",
   "execution_count": 19,
   "id": "83b8a311",
   "metadata": {
    "scrolled": true,
    "tags": []
   },
   "outputs": [],
   "source": [
    "import glob\n",
    "import os\n",
    "from pathlib import Path\n",
    "from PIL import Image\n",
    "from PIL import ImageChops\n",
    "import cv2 as cv\n",
    "import numpy as np\n",
    "from shutil import copyfile\n",
    "from shutil import rmtree\n",
    "from pathlib import Path\n",
    "import ipywidgets\n",
    "import matplotlib.pyplot as plt\n",
    "from matplotlib.pyplot import figure\n",
    "from skimage import io\n",
    "import time\n",
    "#import \"PaintingLight-v2.code.PaintingLight_save\"\n",
    "os.environ['TF_CPP_MIN_LOG_LEVEL'] = '3'"
   ]
  },
  {
   "cell_type": "markdown",
   "id": "8b121685-4a49-4889-9cfd-9c687a6928b9",
   "metadata": {},
   "source": [
    "# 設備檢查 \n",
    "# Check enviroment"
   ]
  },
  {
   "cell_type": "code",
   "execution_count": 15,
   "id": "061778bd-3464-4a3c-8620-078b4c9f22fa",
   "metadata": {
    "tags": []
   },
   "outputs": [
    {
     "name": "stdout",
     "output_type": "stream",
     "text": [
      "2.3.0\n",
      "['/device:GPU:0']\n"
     ]
    },
    {
     "name": "stderr",
     "output_type": "stream",
     "text": [
      "'nvcc' 不是內部或外部命令、可執行的程式或批次檔。\n"
     ]
    },
    {
     "data": {
      "text/plain": [
       "[name: \"/device:CPU:0\"\n",
       " device_type: \"CPU\"\n",
       " memory_limit: 268435456\n",
       " locality {\n",
       " }\n",
       " incarnation: 17236082472720559939,\n",
       " name: \"/device:XLA_CPU:0\"\n",
       " device_type: \"XLA_CPU\"\n",
       " memory_limit: 17179869184\n",
       " locality {\n",
       " }\n",
       " incarnation: 8459070801696135077\n",
       " physical_device_desc: \"device: XLA_CPU device\",\n",
       " name: \"/device:GPU:0\"\n",
       " device_type: \"GPU\"\n",
       " memory_limit: 4932249856\n",
       " locality {\n",
       "   bus_id: 1\n",
       "   links {\n",
       "   }\n",
       " }\n",
       " incarnation: 13796498536635575356\n",
       " physical_device_desc: \"device: 0, name: NVIDIA GeForce RTX 2060, pci bus id: 0000:26:00.0, compute capability: 7.5\",\n",
       " name: \"/device:XLA_GPU:0\"\n",
       " device_type: \"XLA_GPU\"\n",
       " memory_limit: 17179869184\n",
       " locality {\n",
       " }\n",
       " incarnation: 14513591336033996820\n",
       " physical_device_desc: \"device: XLA_GPU device\"]"
      ]
     },
     "execution_count": 15,
     "metadata": {},
     "output_type": "execute_result"
    }
   ],
   "source": [
    "import os\n",
    "#os.environ['Path']='C:\\\\Program Files\\\\NVIDIA GPU Computing Toolkit\\\\CUDA\\\\v10.1\\\\bin;C:\\\\Program Files\\\\NVIDIA GPU Computing Toolkit\\\\CUDA\\\\v10.1\\\\libnvvp;'+os.environ['Path']\n",
    "#os.environ['Path']\n",
    "import tensorflow as tf\n",
    "#print(tf.__version__)\n",
    "\n",
    "from tensorflow.python.client import device_lib\n",
    "import tensorflow as tf\n",
    "def get_available_gpus():\n",
    "    local_device_protos = device_lib.list_local_devices()\n",
    "    return [x.name for x in local_device_protos if x.device_type == 'GPU']\n",
    "print(tf.__version__)\n",
    "print(get_available_gpus())\n",
    "!nvcc -V\n",
    "device_lib.list_local_devices()"
   ]
  },
  {
   "cell_type": "markdown",
   "id": "eff9f268-589c-4663-bb99-02924dccead4",
   "metadata": {},
   "source": [
    "# 設定參數\n",
    "# Setting parameters"
   ]
  },
  {
   "cell_type": "code",
   "execution_count": null,
   "id": "abc19f16-7252-449f-991e-b03caf76ef40",
   "metadata": {},
   "outputs": [],
   "source": [
    "# for ShadeSketch\n",
    "lightDirection1=210;\n",
    "# for PaintingLight\n"
   ]
  },
  {
   "cell_type": "markdown",
   "id": "e314c21f-1d68-4ad0-9997-49f6761c680d",
   "metadata": {
    "tags": []
   },
   "source": [
    "# 所有處理函數\n",
    "# All processing functions"
   ]
  },
  {
   "cell_type": "code",
   "execution_count": 20,
   "id": "d3b73b05-db0d-4c51-8713-80263be0bb63",
   "metadata": {
    "tags": []
   },
   "outputs": [],
   "source": [
    "#不做處理,直接複製\n",
    "def copy_file(inPath,outPath):\n",
    "    input_image=glob.glob(inPath+\"/*\")\n",
    "    Path(outPath).mkdir(parents=True, exist_ok=True)\n",
    "    for i in range(len(input_image)):  \n",
    "        copyfile(input_image[i], outPath+\"/\"+str(i)+\".png\")\n",
    "    return None\n",
    "def delete_folder_content(path):\n",
    "    rmtree(path)\n",
    "    Path(path).mkdir(parents=True, exist_ok=True)\n",
    "    #print(path+'\\' content are deleted')\n",
    "    return None\n",
    "# 線稿修正1:line_thinning\n",
    "def line_thinning(inPath,outPath):\n",
    "    input_image=glob.glob(inPath+\"/*\")\n",
    "    outpath=outPath\n",
    "    Path(outpath).mkdir(parents=True, exist_ok=True)\n",
    "    tags=[]\n",
    "    for i in range(len(input_image)):\n",
    "        outfile=os.path.join(outpath,str(i)+\".png\")\n",
    "        !python line_thinning/thin.py {input_image[i]} {outfile}\n",
    "        tags.append(str(i))\n",
    "        #print(\"Line thining done, file at:\"+outfile)\n",
    "    #print(\"tags:\"+str(tags))\n",
    "    return None\n",
    "# 線稿修正2:LineNormalizer\n",
    "def LineNormalizer(inpath,outpath):\n",
    "    delete_folder_content('LineNormalizer-master/input')\n",
    "    delete_folder_content('LineNormalizer-master/output')\n",
    "    #LineDistiller-master\n",
    "    copy_file(inpath,'LineNormalizer-master/input')\n",
    "    !python LineNormalizer-master/pytorch_predict_block.py\n",
    "    copy_file('LineNormalizer-master/output',outpath)\n",
    "    return None\n",
    "# 線稿修正3:LineDistiller\n",
    "def LineDistiller(inpath,outpath):\n",
    "    delete_folder_content('LineDistiller-master/input')\n",
    "    delete_folder_content('LineDistiller-master/output')\n",
    "    #LineDistiller-master\n",
    "    copy_file(inpath,'LineDistiller-master/input')\n",
    "    !python LineDistiller-master/predict.py\n",
    "    copy_file('LineDistiller-master/output',outpath)\n",
    "    return None\n",
    "# 線稿修正4:LineCloser\n",
    "def LineCloser(inpath,outpath):\n",
    "    delete_folder_content('LineCloser-master/input')\n",
    "    delete_folder_content('LineCloser-master/output')\n",
    "    #LineDistiller-master\n",
    "    copy_file(inpath,'LineCloser-master/input')\n",
    "    !python LineCloser-master/predict.py\n",
    "    copy_file('LineCloser-master/output',outpath)\n",
    "    return None\n",
    "# 線稿修正5:LineReliver\n",
    "def LineRelifer(inpath,outpath):\n",
    "    delete_folder_content('LineRelifer-master/input')\n",
    "    delete_folder_content('LineRelifer-master/output')\n",
    "    #LineDistiller-master\n",
    "    copy_file(inpath,'LineRelifer-master/input')\n",
    "    !python LineRelifer-master/predict.py\n",
    "    copy_file('LineRelifer-master/output',outpath)\n",
    "    return None\n",
    "# 線稿抽取:SketchKeras\n",
    "def sketchKeras(inPath,outPath):\n",
    "    !python sketchKeras-master/main.py --input_path {inPath} --output_path {outPath}\n",
    "    img_list=glob.glob(outPath+'/*')\n",
    "    for i in img_list:\n",
    "        img = cv.imread(i)\n",
    "        white_image=np.ones_like(img)*255\n",
    "        white_image[3:-4,3:-4]=img[3:-4,3:-4]\n",
    "        cv.imwrite(outPath+'/'+i.split('\\\\')[-1],white_image)\n",
    "    return None\n",
    "# Canny方法\n",
    "def canny(inpath,outpath):\n",
    "    img_list=glob.glob(inpath+'/*')\n",
    "    Path(outpath).mkdir(parents=True, exist_ok=True)\n",
    "    for i in img_list:\n",
    "        \n",
    "        img = cv.imread(i,0)\n",
    "        edges = cv.Canny(img,100,20)\n",
    "        edges=255-edges\n",
    "        white_image=np.ones_like(edges)*255\n",
    "        white_image[3:-4,3:-4]=edges[3:-4,3:-4]\n",
    "        cv.imwrite(outpath+'/'+i.split('\\\\')[-1],white_image)\n",
    "    return None\n",
    "# 減去線條\n",
    "def delete_Line(inpath,outpath):\n",
    "    img_list=glob.glob(inpath+'/*')\n",
    "    Path(outpath).mkdir(parents=True, exist_ok=True)\n",
    "    for i in img_list:\n",
    "        img = cv.imread(i,0)\n",
    "        edges = cv.Canny(img,100,20)\n",
    "        edges=255-edges\n",
    "        white_image=np.ones_like(edges)*255\n",
    "        white_image[3:-4,3:-4]=edges[3:-4,3:-4]\n",
    "        cv.imwrite(outpath+'/'+i.split('\\\\')[-1],white_image)\n",
    "# 上色GAN,標籤列表參考Tag2Pix/usedtags.csv¶\n",
    "def coloring(inPath,outPath,tag):\n",
    "    data_dir=Path(inPath).parent\n",
    "    Path(outPath).mkdir(parents=True, exist_ok=True)\n",
    "    tagspath = str(Path(inPath).parent)+'/tags.txt'\n",
    "    f = open(tagspath, 'w')\n",
    "    f.writelines(tag)\n",
    "    f.close()\n",
    "    !python Tag2Pix/main.py  --test --thread=1 --batch=1 --data_dir={data_dir} --tag_txt=tags.txt --test_dir={inPath.split(\"/\")[-1]} --result_dir={outPath} --load=Tag2Pix/tag2pix_512.pkl --input_size=512 --no_bn\n",
    "    return None\n",
    "# 陰影GAN\n",
    "def shadding(inPath,outPath):\n",
    "    Path(outPath).mkdir(parents=True, exist_ok=True)\n",
    "    !python ShadeSketch-master/predict.py --use-smooth --use-norm --direction 210 --input-dir {inPath} --output-dir {outPath}\n",
    "    return None\n",
    "# 把上色跟陰影組合\n",
    "def combine(colorPath,shadingPath,outPath):\n",
    "    #input_image=glob.glob(colorPath+\"/tag2pix_512/*\")\n",
    "    input_image=glob.glob(colorPath+\"/*\")\n",
    "    #print(input_image)\n",
    "    input_image1=glob.glob(shadingPath+\"/*\")\n",
    "    #print(input_image1)\n",
    "    Path(outPath).mkdir(parents=True, exist_ok=True)\n",
    "    for i in range(len(input_image)):\n",
    "        color_img=Image.open(input_image[i])\n",
    "        shading_img=Image.open(input_image1[i])\n",
    "        #print(shading_img.size)\n",
    "        #shading_img.show()\n",
    "        color_img=color_img.resize(shading_img.size)\n",
    "        #print(color_img.size)\n",
    "        #color_img.show()\n",
    "        output_img=ImageChops.multiply(color_img.convert('RGB'),shading_img.convert('RGB'))\n",
    "        output_img.save(outPath+\"/\"+input_image[i].split('\\\\')[-1])\n",
    "        #print(outPath+\"/\"+input_image[i].split('\\\\')[-1]+\" is done\")\n",
    "    return None\n",
    "#提取HSI線稿與明度\n",
    "def HSI_Line(inpath,outpath_Line,outpath_Color,outpath_Lumin):\n",
    "    Path(outpath_Color).mkdir(parents=True, exist_ok=True)\n",
    "    Path(outpath_Color+\"_RGB\").mkdir(parents=True, exist_ok=True)\n",
    "    Path(outpath_Line).mkdir(parents=True, exist_ok=True)\n",
    "    Path(outpath_Lumin).mkdir(parents=True, exist_ok=True)\n",
    "    all_Image=glob.glob(inpath+\"/*\")\n",
    "    fig, axes = plt.subplots(ncols=3, figsize=(20, 20))\n",
    "    plt.suptitle(\"orignal_Image\",fontsize=50,y=0.7)\n",
    "    for (index,i) in enumerate(all_Image):\n",
    "        #print(\"processing:\"+i)\n",
    "        Image=io.imread(i)\n",
    "        Image=cv.cvtColor(Image, cv.COLOR_RGB2HLS)\n",
    "        gray=np.ones_like(Image[::,::,0])*128\n",
    "        Image_Color=Image.copy()\n",
    "        Image_Color[::,::,1]=gray\n",
    "        Image_Line=Image.copy()\n",
    "        Image_Line[::,::,0]=np.zeros_like(Image_Line[::,::,0])\n",
    "        Image_Line[::,::,2]=np.zeros_like(Image_Line[::,::,2])\n",
    "        Image_Line=cv.cvtColor(Image_Line, cv.COLOR_HLS2RGB)\n",
    "        Image_Lumin=Image_Line.copy()\n",
    "        \n",
    "        Image_Line = cv.Canny(Image_Line,100,20)\n",
    "        Image_Line=255-Image_Line\n",
    "        (width,height)=(Image_Line.shape()[0],Image_Line.shape()[1])\n",
    "        Image_Line=Image_Line[1:width-1,1,height-1]\n",
    "        Image_Line=cv.resize(Image_Line,width,height)\n",
    "        \n",
    "        #ret,Image_Line=cv.threshold(Image_Line, 40, 255, cv.THRESH_BINARY)\n",
    "\n",
    "\n",
    "        #print(Image_Line.shape)\n",
    "        io.imsave(outpath_Color+\"/\"+str(index)+\".jpg\", Image_Color)\n",
    "        \n",
    "        Image_Color=cv.cvtColor(Image_Color, cv.COLOR_HLS2RGB)\n",
    "        io.imsave(outpath_Color+\"_RGB\"+\"/\"+str(index)+\".jpg\", Image_Color)\n",
    "        \n",
    "        io.imsave(outpath_Lumin+\"/\"+str(index)+\".jpg\", Image_Lumin)\n",
    "        io.imsave(outpath_Line+\"/\"+str(index)+\".jpg\", Image_Line)\n",
    "        io.imshow(Image_Line)\n",
    "    plt.show()\n",
    "    return None\n",
    "# HSI組合_改\n",
    "def HSI_combine_kai(colorPath,luminPath,shadow_path,outPath):\n",
    "    input_image=glob.glob(colorPath+\"/*\")\n",
    "    input_image1=glob.glob(luminPath+\"/*\")\n",
    "    input_image2=glob.glob(shadow_path+\"/*\")\n",
    "    Path(outPath).mkdir(parents=True, exist_ok=True)\n",
    "    for i in range(len(input_image)):\n",
    "        \n",
    "        lumin_img=Image.open(input_image1[i])\n",
    "        shading_img=Image.open(input_image2[i])\n",
    "        lumin=ImageChops.multiply(lumin_img.convert('RGB'),shading_img.convert('RGB'))\n",
    "        lumin_image_final=np.array(lumin)\n",
    "        lumin_image_final=cv.cvtColor(lumin_image_final, cv.COLOR_RGB2HLS)\n",
    "        #print(\"lumin\")\n",
    "        #print(io.imshow(lumin_image_final))\n",
    "        #plt.show()\n",
    "        color_img=io.imread(input_image[i])\n",
    "        color_img=cv.resize(color_img, lumin_img.size, interpolation=cv.INTER_AREA)\n",
    "        #color_img=cv.cvtColor(color_img, cv.COLOR_RGB2HLS)\n",
    "        #print(\"color\")\n",
    "        #print(io.imshow(color_img))\n",
    "        #plt.show()\n",
    "        color_img[::,::,1]=lumin_image_final[::,::,1]\n",
    "        color_img=cv.cvtColor(color_img, cv.COLOR_HLS2RGB)\n",
    "        io.imsave(outPath+\"/\"+input_image[i].split('\\\\')[-1],color_img)\n",
    "        #print(outPath+\"/\"+input_image[i].split('\\\\')[-1]+\" is done\")\n",
    "    return None\n",
    "# HSI組合\n",
    "def HSI_combine(colorPath,luminPath,outPath):\n",
    "    input_image=glob.glob(colorPath+\"/*\")\n",
    "    input_image1=glob.glob(luminPath+\"/*\")\n",
    "    Path(outPath).mkdir(parents=True, exist_ok=True)\n",
    "    for i in range(len(input_image)):\n",
    "        \n",
    "        lumin_img=io.imread(input_image1[i])\n",
    "        #print(lumin_img)\n",
    "        \n",
    "        #lumin_img=cv.cvtColor(lumin_img, cv.COLOR_RGB2HLS)\n",
    "        \n",
    "        #print(\"lumin\")\n",
    "        #print(io.imshow(lumin_img))\n",
    "        plt.show()\n",
    "        color_img=io.imread(input_image[i])\n",
    "        color_img=cv.resize(color_img,(lumin_img.shape[1],lumin_img.shape[0]),interpolation=cv.INTER_AREA)\n",
    "        #print(\"color\")\n",
    "        #print(io.imshow(color_img))\n",
    "        plt.show()\n",
    "        color_img[::,::,1]=lumin_img\n",
    "        color_img=cv.cvtColor(color_img, cv.COLOR_HLS2RGB)\n",
    "        io.imsave(outPath+\"/\"+input_image[i].split('\\\\')[-1],color_img)\n",
    "        #print(outPath+\"/\"+input_image[i].split('\\\\')[-1]+\" is done\")\n",
    "    return None\n",
    "# HSI組合_RGB\n",
    "def HSI_combine_RGB(colorPath,luminPath,outPath):\n",
    "    input_image=glob.glob(colorPath+\"/*\")\n",
    "    input_image1=glob.glob(luminPath+\"/*\")\n",
    "    Path(outPath).mkdir(parents=True, exist_ok=True)\n",
    "    for i in range(len(input_image)):\n",
    "        \n",
    "        lumin_img=io.imread(input_image1[i])\n",
    "        #print(lumin_img)\n",
    "        \n",
    "        #lumin_img=cv.cvtColor(lumin_img, cv.COLOR_RGB2HLS)\n",
    "        \n",
    "        #print(\"lumin\")\n",
    "        #print(io.imshow(lumin_img))\n",
    "        plt.show()\n",
    "        color_img=io.imread(input_image[i])\n",
    "        color_img=cv.resize(color_img,(lumin_img.shape[1],lumin_img.shape[0]),interpolation=cv.INTER_AREA)\n",
    "        #print(\"color\")\n",
    "        #print(io.imshow(color_img))\n",
    "        plt.show()\n",
    "        color_img=cv.cvtColor(color_img, cv.COLOR_RGB2HLS)\n",
    "        color_img[::,::,1]=lumin_img\n",
    "        color_img=cv.cvtColor(color_img, cv.COLOR_HLS2RGB)\n",
    "        io.imsave(outPath+\"/\"+input_image[i].split('\\\\')[-1],color_img)\n",
    "        #print(outPath+\"/\"+input_image[i].split('\\\\')[-1]+\" is done\")\n",
    "    return None\n",
    "def paintingLight_process(inpath,outpath, mask, ambient_intensity, light_intensity, light_source_height,\n",
    "            gamma_correction, stroke_density_clipping, light_color_red, light_color_green,\n",
    "            light_color_blue, enabling_multiple_channel_effects,light_position=[-0.8,0.8]):\n",
    "    img_list=glob.glob(inpath+\"/*\")\n",
    "    Path(outpath).mkdir(parents=True, exist_ok=True)\n",
    "    for i in img_list:\n",
    "        image = cv.imread(i)\n",
    "        output_name=i.split(\"\\\\\")[-1]\n",
    "        #light_source_height =2\n",
    "        #gamma_correction = 1.0\n",
    "        #stroke_density_clipping = 0.5\n",
    "        #enabling_multiple_channel_effects = True\n",
    "        #light_intensity=1\n",
    "        #ambient_intensity=0\n",
    "        #light_color_red = 1.0\n",
    "        #light_color_green = 1.0\n",
    "        #light_color_blue = 1.0\n",
    "        (gx,gy)=(light_position[0],light_position[1])\n",
    "        #(gx,gy)在畫面上的座標\n",
    "        #(1,1)---------- (-1,1)\n",
    "        #|                |\n",
    "        #|       (0,0)    |\n",
    "        #|                |\n",
    "        #(1,-1)----------(-1,-1)\n",
    "        \n",
    "        paintingLight_run(image, mask, ambient_intensity, light_intensity, light_source_height,\n",
    "            gamma_correction, stroke_density_clipping, light_color_red, light_color_green,\n",
    "            light_color_blue, enabling_multiple_channel_effects,gx,gy,outpath+\"/\"+output_name)"
   ]
  },
  {
   "cell_type": "code",
   "execution_count": null,
   "id": "5a1fbdc2-d258-490e-a4dc-12076f263c14",
   "metadata": {},
   "outputs": [],
   "source": []
  },
  {
   "cell_type": "markdown",
   "id": "6c3f8499-74b2-4bd3-b0cc-200cbd7d3038",
   "metadata": {
    "tags": []
   },
   "source": [
    "# 流程1"
   ]
  },
  {
   "cell_type": "code",
   "execution_count": 24,
   "id": "4f28a155-6998-46ad-9686-92dc0a4d7d94",
   "metadata": {
    "scrolled": true,
    "tags": []
   },
   "outputs": [
    {
     "name": "stdout",
     "output_type": "stream",
     "text": [
      "Running inference for test_output/tmp/canny_Line\\whatever.jpg ...\n",
      "運算時間為: 11.081167499999992 秒\n"
     ]
    },
    {
     "name": "stderr",
     "output_type": "stream",
     "text": [
      "WARNING:tensorflow:From C:\\Users\\bbpla\\anaconda3\\envs\\ColorShaddingFrame\\lib\\site-packages\\tensorflow\\python\\compat\\v2_compat.py:96: disable_resource_variables (from tensorflow.python.ops.variable_scope) is deprecated and will be removed in a future version.\n",
      "Instructions for updating:\n",
      "non-resource variables are not supported in the long term\n",
      "WARNING:tensorflow:From ShadeSketch-master/predict.py:72: FastGFile.__init__ (from tensorflow.python.platform.gfile) is deprecated and will be removed in a future version.\n",
      "Instructions for updating:\n",
      "Use tf.gfile.GFile.\n"
     ]
    }
   ],
   "source": [
    "startTime=time.perf_counter()\n",
    "canny(\"test_image\",\"test_output/tmp/canny_Line\")\n",
    "shadding(\"test_output/tmp/canny_Line\",\"test_output/tmp/shade_canny\")\n",
    "combine(\"test_image\",\"test_output/tmp/shade_canny\",\"test_output/process_1\")\n",
    "endTime=time.perf_counter()\n",
    "print(\"運算時間為:\",endTime-startTime,\"秒\") "
   ]
  },
  {
   "cell_type": "markdown",
   "id": "8a66cd9b-c8f7-4f44-bfc3-ca4e9a0bb9ff",
   "metadata": {},
   "source": [
    "# 流程2"
   ]
  },
  {
   "cell_type": "code",
   "execution_count": null,
   "id": "92e679a8-03b2-4796-a0e4-bf2e29657d55",
   "metadata": {
    "scrolled": true,
    "tags": []
   },
   "outputs": [],
   "source": [
    "startTime=time.perf_counter()\n",
    "sketchKeras(\"test_image\",\"test_output/tmp/sketch_Keras\")\n",
    "shadding(\"test_output/tmp/sketch_Keras\",\"test_output/tmp/shade_sketch_Keras\")\n",
    "combine(\"test_image\",\"test_output/tmp/shade_sketch_Keras\",\"test_output/process_2\")\n",
    "endTime=time.perf_counter()\n",
    "print(\"運算時間為:\",endTime-startTime,\"秒\") "
   ]
  },
  {
   "cell_type": "markdown",
   "id": "de7e8953-7a1a-4b52-b68d-ea5166c24970",
   "metadata": {
    "jp-MarkdownHeadingCollapsed": true,
    "tags": []
   },
   "source": [
    "## 流程3(棄用)"
   ]
  },
  {
   "cell_type": "code",
   "execution_count": null,
   "id": "6ecf3c20-7adf-45e7-9274-ecfcef591db8",
   "metadata": {},
   "outputs": [],
   "source": [
    "\n",
    "LineCloser(\"test_output/tmp/canny_Line\",\"test_output/tmp/canny_Line_Closer\")\n",
    "\n",
    "LineRelifer(\"test_output/tmp/canny_Line_Closer\",\"test_output/tmp/canny_Line_Closer_Relifer\")\n",
    "\n",
    "shadding(\"test_output/tmp/canny_Line_Closer_Relifer\",\"test_output/tmp/shadding_canny_Line_Closer_Relifer\")\n",
    "\n",
    "combine(\"test_image\",\"test_output/tmp/shadding_canny_Line_Closer_Relifer\",\"test_output/process_4\")"
   ]
  },
  {
   "cell_type": "code",
   "execution_count": null,
   "id": "f0997495-e8a1-4a03-b169-955fe00f0fd7",
   "metadata": {
    "scrolled": true,
    "tags": []
   },
   "outputs": [],
   "source": [
    "sketchKeras(\"test_output/tmp/canny_Line\",\"test_output/tmp/canny_sketch_Keras\")\n",
    "shadding(\"test_output/tmp/canny_sketch_Keras\",\"test_output/tmp/shade_canny_sketch_Keras\")\n",
    "combine(\"test_image\",\"test_output/tmp/shade_canny_sketch_Keras\",\"test_output/tmp/combine_process_3\")"
   ]
  },
  {
   "cell_type": "markdown",
   "id": "72df00bb",
   "metadata": {},
   "source": [
    "## 流程3(PaintingLight)"
   ]
  },
  {
   "cell_type": "code",
   "execution_count": 25,
   "id": "39c132eb",
   "metadata": {
    "scrolled": true
   },
   "outputs": [
    {
     "name": "stdout",
     "output_type": "stream",
     "text": [
      "運算時間為: 0.0008697000002939603 秒\n"
     ]
    }
   ],
   "source": [
    "startTime=time.perf_counter()\n",
    "mask = None\n",
    "light_source_height =1\n",
    "gamma_correction =1\n",
    "stroke_density_clipping = 1\n",
    "enabling_multiple_channel_effects = True\n",
    "light_intensity=1\n",
    "ambient_intensity=0.7\n",
    "light_color_red = 1.0\n",
    "light_color_green = 1.0\n",
    "light_color_blue = 1.0\n",
    "Light_direction=[-0.8,0.8]\n",
    "paintingLight_process(\"test_output/process_2\",\"test_output/final\", mask, ambient_intensity, light_intensity, light_source_height,gamma_correction, stroke_density_clipping, light_color_red, light_color_green,light_color_blue, enabling_multiple_channel_effects,Light_direction)\n",
    "endTime=time.perf_counter()\n",
    "print(\"運算時間為:\",endTime-startTime,\"秒\") \n"
   ]
  },
  {
   "cell_type": "markdown",
   "id": "dea69160-1299-495a-9866-0a6a7576c2ef",
   "metadata": {},
   "source": [
    "## 各種比較圖 ##"
   ]
  },
  {
   "cell_type": "code",
   "execution_count": null,
   "id": "b1866f16-132e-4d71-ba16-afa1158556aa",
   "metadata": {
    "scrolled": true,
    "tags": []
   },
   "outputs": [],
   "source": [
    "\n",
    "(img_list1,img_list2,img_list3)=(glob.glob(\"test_output/process_1/*\"),glob.glob(\"test_output/process_2/*\"),glob.glob(\"test_output/process_3/*\"))\n",
    "Path(\"test_output/compare\").mkdir(parents=True, exist_ok=True)\n",
    "for i in range(len(img_list1)):\n",
    "    figure(figsize=(20,16), dpi=80)\n",
    "    plt.title(img_list1[i].split('\\\\')[-1]), plt.xticks([]), plt.yticks([])\n",
    "    img=cv.imread(img_list1[i])\n",
    "    img=cv.cvtColor(img, cv.COLOR_BGR2RGB)\n",
    "    plt.subplot(1,3,1),plt.imshow(img)\n",
    "    img=cv.imread(img_list2[i])\n",
    "    img=cv.cvtColor(img, cv.COLOR_BGR2RGB)\n",
    "    plt.subplot(1,3,2),plt.imshow(img)\n",
    "    img=cv.imread(img_list3[i])\n",
    "    img=cv.cvtColor(img, cv.COLOR_BGR2RGB)\n",
    "    plt.subplot(1,3,3),plt.imshow(img)\n",
    "    \n",
    "    plt.savefig(\"test_output/compare/\"+img_list1[i].split(\"\\\\\")[-1])\n",
    "    \n",
    "        "
   ]
  },
  {
   "cell_type": "code",
   "execution_count": null,
   "id": "3007b6c4-9423-4aaf-9b6d-e0e4e8f2682a",
   "metadata": {
    "scrolled": true,
    "tags": []
   },
   "outputs": [],
   "source": [
    "\n",
    "(img_list1,img_list2)=(glob.glob(\"test_output/tmp/canny_Line/*\"),glob.glob(\"test_output/tmp/sketch_Keras/*\"))\n",
    "Path(\"test_output/compare_Line\").mkdir(parents=True, exist_ok=True)\n",
    "for i in range(len(img_list1)):\n",
    "    figure(figsize=(20,16), dpi=80)\n",
    "    plt.title(img_list1[i].split('\\\\')[-1]), plt.xticks([]), plt.yticks([])\n",
    "    img=cv.imread(img_list1[i])\n",
    "    img=cv.cvtColor(img, cv.COLOR_BGR2RGB)\n",
    "    plt.subplot(1,2,1),plt.imshow(img)\n",
    "    img=cv.imread(img_list2[i])\n",
    "    img=cv.cvtColor(img, cv.COLOR_BGR2RGB)\n",
    "    plt.subplot(1,2,2),plt.imshow(img)\n",
    "    \n",
    "    plt.savefig(\"test_output/compare_Line/\"+img_list1[i].split(\"\\\\\")[-1])\n",
    "    \n",
    "    #plt.show()\n",
    "    \n",
    "        "
   ]
  },
  {
   "cell_type": "code",
   "execution_count": null,
   "id": "b2910c1a",
   "metadata": {
    "scrolled": true,
    "tags": []
   },
   "outputs": [],
   "source": [
    "\n",
    "(img_list1,img_list2)=(glob.glob(\"test_output/tmp/shade_canny/*\"),glob.glob(\"test_output/tmp/shade_sketch_Keras/*\"))\n",
    "Path(\"test_output/compare_Shadow\").mkdir(parents=True, exist_ok=True)\n",
    "for i in range(len(img_list1)):\n",
    "    figure(figsize=(20,16), dpi=80)\n",
    "    plt.title(img_list1[i].split('\\\\')[-1]), plt.xticks([]), plt.yticks([])\n",
    "    img=cv.imread(img_list1[i])\n",
    "    img=cv.cvtColor(img, cv.COLOR_BGR2RGB)\n",
    "    plt.subplot(1,2,1),plt.imshow(img)\n",
    "    img=cv.imread(img_list2[i])\n",
    "    img=cv.cvtColor(img, cv.COLOR_BGR2RGB)\n",
    "    plt.subplot(1,2,2),plt.imshow(img)\n",
    "    plt.savefig(\"test_output/compare_Shadow/\"+img_list1[i].split(\"\\\\\")[-1])\n",
    "    \n",
    "    #plt.show()"
   ]
  },
  {
   "cell_type": "code",
   "execution_count": null,
   "id": "ecd9557e-d696-4275-848c-410514f2e24a",
   "metadata": {
    "tags": []
   },
   "outputs": [],
   "source": [
    "combine(\"test_output/tmp/shade_canny\",\"test_output/tmp/canny_Line\",\"test_output/tmp/combine_process_1_BW\")\n",
    "\n",
    "combine(\"test_output/tmp/shade_sketch_Keras\",\"test_output/tmp/sketch_Keras\",\"test_output/tmp/combine_process_2_BW\")\n",
    "\n",
    "(img_list1,img_list2)=(glob.glob(\"test_output/tmp/combine_process_1_BW/*\"),glob.glob(\"test_output/tmp/combine_process_2_BW/*\"))\n",
    "Path(\"test_output/compare_BW\").mkdir(parents=True, exist_ok=True)\n",
    "for i in range(len(img_list1)):\n",
    "    figure(figsize=(20,16), dpi=80)\n",
    "    plt.title(img_list1[i].split('\\\\')[-1]), plt.xticks([]), plt.yticks([])\n",
    "    img=cv.imread(img_list1[i])\n",
    "    img=cv.cvtColor(img, cv.COLOR_BGR2RGB)\n",
    "    plt.subplot(1,2,1),plt.imshow(img)\n",
    "    img=cv.imread(img_list2[i])\n",
    "    img=cv.cvtColor(img, cv.COLOR_BGR2RGB)\n",
    "    plt.subplot(1,2,2),plt.imshow(img)\n",
    "    \n",
    "    plt.savefig(\"test_output/compare_BW/\"+img_list1[i].split(\"\\\\\")[-1])"
   ]
  },
  {
   "cell_type": "markdown",
   "id": "cdc66598-5556-439b-a520-e5ab4634287d",
   "metadata": {},
   "source": [
    "## 陰影抽取"
   ]
  },
  {
   "cell_type": "code",
   "execution_count": null,
   "id": "3e5c8ef2-fcbf-4ece-8240-24f98354d3b7",
   "metadata": {},
   "outputs": [],
   "source": []
  },
  {
   "cell_type": "code",
   "execution_count": null,
   "id": "b64037e0-28d1-49c8-af10-b55e14614f1a",
   "metadata": {},
   "outputs": [],
   "source": [
    "shadding(\"test_image\\inked\",\"test_output_inked\")"
   ]
  }
 ],
 "metadata": {
  "kernelspec": {
   "display_name": "Python 3 (ipykernel)",
   "language": "python",
   "name": "python3"
  },
  "language_info": {
   "codemirror_mode": {
    "name": "ipython",
    "version": 3
   },
   "file_extension": ".py",
   "mimetype": "text/x-python",
   "name": "python",
   "nbconvert_exporter": "python",
   "pygments_lexer": "ipython3",
   "version": "3.8.16"
  },
  "vscode": {
   "interpreter": {
    "hash": "9c12a16523cafb1a8351ea63068310ef190b51667e63584f39566b6343a177f2"
   }
  }
 },
 "nbformat": 4,
 "nbformat_minor": 5
}
