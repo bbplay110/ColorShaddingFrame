{
 "cells": [
  {
   "cell_type": "code",
   "execution_count": 1,
   "id": "63d44138",
   "metadata": {},
   "outputs": [
    {
     "ename": "SyntaxError",
     "evalue": "invalid syntax (Utility.py, line 30)",
     "output_type": "error",
     "traceback": [
      "Traceback \u001b[1;36m(most recent call last)\u001b[0m:\n",
      "  File \u001b[0;32m\"C:\\Users\\M213\\anaconda3\\envs\\allInOneGAN\\lib\\site-packages\\IPython\\core\\interactiveshell.py\"\u001b[0m, line \u001b[0;32m3444\u001b[0m, in \u001b[0;35mrun_code\u001b[0m\n    exec(code_obj, self.user_global_ns, self.user_ns)\n",
      "\u001b[1;36m  File \u001b[1;32m\"C:\\Users\\M213\\AppData\\Local\\Temp/ipykernel_31060/2627874726.py\"\u001b[1;36m, line \u001b[1;32m1\u001b[1;36m, in \u001b[1;35m<module>\u001b[1;36m\u001b[0m\n\u001b[1;33m    import Utility\u001b[0m\n",
      "\u001b[1;36m  File \u001b[1;32m\"D:\\WORK\\all_in_oneGAN\\Utility.py\"\u001b[1;36m, line \u001b[1;32m30\u001b[0m\n\u001b[1;33m    !python line_thinning/thin.py {input_image[i]} {outfile}\u001b[0m\n\u001b[1;37m    ^\u001b[0m\n\u001b[1;31mSyntaxError\u001b[0m\u001b[1;31m:\u001b[0m invalid syntax\n"
     ]
    }
   ],
   "source": [
    "import Utility"
   ]
  },
  {
   "cell_type": "code",
   "execution_count": null,
   "id": "d5396e30",
   "metadata": {},
   "outputs": [],
   "source": [
    "Utility"
   ]
  }
 ],
 "metadata": {
  "kernelspec": {
   "display_name": "Python 3 (ipykernel)",
   "language": "python",
   "name": "python3"
  },
  "language_info": {
   "codemirror_mode": {
    "name": "ipython",
    "version": 3
   },
   "file_extension": ".py",
   "mimetype": "text/x-python",
   "name": "python",
   "nbconvert_exporter": "python",
   "pygments_lexer": "ipython3",
   "version": "3.8.12"
  }
 },
 "nbformat": 4,
 "nbformat_minor": 5
}
